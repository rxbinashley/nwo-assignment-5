{
 "cells": [
  {
   "cell_type": "markdown",
   "metadata": {},
   "source": [
    "# Assignment 5\n",
    "\n",
    "Robin Kuipers 14273810, Benjamin Kuus 14394081 | 06 oktober 2023\n",
    "\n",
    "Netwerk organisaties"
   ]
  },
  {
   "cell_type": "code",
   "execution_count": 1,
   "metadata": {},
   "outputs": [],
   "source": [
    "# Import packages\n",
    "import pandas as pd\n",
    "import plotly.express as px\n",
    "import seaborn as sns"
   ]
  },
  {
   "cell_type": "markdown",
   "metadata": {},
   "source": [
    "## 1. Literatuur"
   ]
  },
  {
   "cell_type": "markdown",
   "metadata": {},
   "source": [
    "### Waarom wordt het onderzoek van Auping et al. (2015) uitgevoerd? Maak onderscheid tussen de wetenschappelijke en maatschappelijke relevantie.\n",
    "\n",
    "Antwoord Benjamin"
   ]
  },
  {
   "cell_type": "markdown",
   "metadata": {},
   "source": [
    "### Waarom is het passend om dit onderzoek uit te voeren met behulp van System Dynamics? Welke andere onderzoeksmethoden kun je bedenken om vergelijkbare conclusies te kunnen trekken? Leg uit.\n",
    "\n",
    "In het onderzoek van Auping (2015) wordt het probleem van ‘societal ageing’ behandeld. Dit probleem wordt gezien als ‘deeply uncertain’, aangezien er vele stakeholders zijn met grote verschillen in standpunten en perspectieven. Het probleem van societal ageing is dus duidelijk complex."
   ]
  },
  {
   "cell_type": "markdown",
   "metadata": {},
   "source": [
    "### Een belangrijke stap die moet worden uitgevoerd is de validatie van het onderzoeksmodel. Geef een uiteenzetting van de wijze waarop de onderzoekers het onderzoeksmodel valideren. Maak in het antwoord gebruik van de verschillende vormen van validatie zoals besproken in het hoorcollege.\n",
    "\n",
    "> “Validation is the process of determining the degree to which a simulation model and its associated data are an accurate representation of the real world from the perspective of the intended uses of the model.” - Tom van Engers, lecture 2, network science (2023)\n",
    "\n",
    "Op basis van de validatiemethoden uit de het college van Tom van Engers in week twee, hebben we de technieken die de onderzoekers hebben gebruikt opnieuw onderzocht in de context van de door van Engers gegeven validatie typen:\n",
    "\n",
    "\n",
    "- **Construct validity** (Does one measure what one thinks to measure?): De demografische druk, die de onderzoekers definiëren als een proxy voor de verhouding van de niet-werkende bevolking in vergelijking met de werkende bevolking, illustreert construct validity. Ze maken van een complex concept (de maatschappelijke veroudering) een meetbare variabele (de demografische druk).\n",
    "\n",
    "\n",
    "- **Face validity** (Is the set-up of the research reasonable?): De workshops met domein- en methodologische experts dienen als controle van face validity. Deze experts zouden evalueren of het model \"klopt\" en of de structuur ervan redelijk is op basis van hun expertise.\n",
    "\n",
    "\n",
    "- **Concurrent Validity** (Measures the test against a benchmark test and high correlation indicates that the test has strong criterion validity?): De vergelijking van de model voorspellingen met betrekking tot bevolkingsscenario's met prognoses van het CBS (2010) dient als een vorm van concurrente validiteit. Ze benchmarken hun model tegen een gevestigde en erkende bron.\n",
    "\n",
    "\n",
    "- **Predictive Criterium Validity** (The extent to which a score on a scale or test predicts scores on some criterion measure): Hoewel het niet expliciet wordt benoemd, geeft het vermogen van het model om bevolkingsscenario's en demografische druk over toekomstige periodes te voorspellen een bewijs van zijn predictieve criteriumvaliditeit.\n",
    "\n",
    "\n",
    "- **Internal Validity** (Causal relations): De verkenning van beleidsopties en hun implicaties voor de kosten van maatschappelijke veroudering representeert interne validiteit. De onderzoekers onderzoeken de causale effecten van verschillende beleidslijnen op het resultaat.\n",
    "\n",
    "\n",
    "- **External Validity**(Sometimes called population validity: how well can the sample used be extrapolated to a population as a whole?): De focus op Nederland en de specifieke verwijzingen naar de gezondheidszorg, het pensioenstelsel en de arbeidsmarktdynamiek suggereren dat terwijl het model mogelijk een hoge externe validiteit heeft voor Nederland, het mogelijk aanpassingen nodig heeft voor andere landen of instellingen.\n",
    "\n",
    "\n",
    "Deze verschillende soorten validatie zorgen er gezamenlijk voor dat het onderzoeksmodel zowel rigoureus als relevant is, wat de geloofwaardigheid en toepasbaarheid verhoogt.\n"
   ]
  },
  {
   "cell_type": "markdown",
   "metadata": {},
   "source": [
    "### De volgende stap is het opstellen van de policies. Dit wordt gedaan met behulp van Robust Decision Making. Leg uit hoe de auteurs komen tot robuuste policies.\n",
    "\n",
    "Om tot robuuste policies te komen maken de auteurs gebruik van Robust Decision Making (RDM). RDM is een benadering die is ontworpen om besluitvormers te helpen omgaan met onzekerheid. RDM helpt om een robuust plan te identificeren, dat zo veel mogelijk situaties ontwijkt waarin het plan zal falen en wat de condities verduidelijkt waarin het plan zal falen. {cite}`sterman-2001` (Auping et al., 2015). In de volgende stappen zijn de onderzoekers tot robuuste policies gekomen:\n",
    "\n",
    "1. **Scoping**: De scope van het model ligt op het begrijpen van de ontwikkeling van de Nederlandse demografie en de implicaties daarvan op overheidsuitgaven, specifiek met betrekking tot pensioenfondsen, curatieve zorg en langdurige zorg. Hierbij zijn de hoofdcomponenten demografie, economie (factoren die het BBP, arbeidsproductiviteit en de balans tussen arbeidsaanbod en vraag beïnvloeden), sociale zekerheid, gezondheidszorg, beleidswijzigingen. Twee belangrijke feedbacklussen zijn geïdentificeerd: de \"cost-plus social security expansion loop\" en de \"adaptive retirement age cost mitigation loop\".\n",
    "\n",
    "2. **Simulation and scenario discovery**: vervolgens werd er een “candidate” policy geïdentificeerd die geëvalueerd wordt en waarin een aantal scenario’s worden getest om kwetsbaarheden van het beleid te identificeren. De gekozen policy is in dit onderzoek de pensioenleeftijd. De scenario’s waar modellen voor gemaakt zijn zijn: de huidige pensioenleeftijd, de voormalige pensioenleeftijd, een scenario waarin de voormalige pensioenleeftijd op een later moment veranderd wordt en een toekomstige voorspelling van de pensioenleeftijd. Vervolgens is ieder model 1000 maal gesimuleerd tussen het jaar 2010 en 2060. \n",
    "\n",
    "3. **policy design**: Aan de hand van de simulaties op de verschillende scenario’s wordt door de onderzoekers nieuw of aangepast beleid opgesteld. De verschillende policyopties (in dit onderzoek in totaal 10)  zijn gesimuleerd en getest, zowel individueel als gecombineerd. De policies worden robuust verklaard wanneer de gewenste uitkomsten en toekomstige situaties uit het model komen. Hiervoor is het handig om deze te stroomlijnen met de werkelijke ontwikkelingen van de toekomst (vanuit voorspellingen die zo mogelijk accuraat zijn, het is immers niet mogelijk om daadwerkelijk te voorspellen hoe de toekomst eruit ziet). De uitkomsten van de verschillende (gecombineerde) policies worden vergeleken en vanuit daar wordt bepaald welke robuust zijn."
   ]
  },
  {
   "cell_type": "markdown",
   "metadata": {},
   "source": [
    "```{bibliography}\n",
    "```"
   ]
  },
  {
   "cell_type": "code",
   "execution_count": null,
   "metadata": {},
   "outputs": [],
   "source": []
  }
 ],
 "metadata": {
  "kernelspec": {
   "display_name": "Python 3 (ipykernel)",
   "language": "python",
   "name": "python3"
  },
  "language_info": {
   "codemirror_mode": {
    "name": "ipython",
    "version": 3
   },
   "file_extension": ".py",
   "mimetype": "text/x-python",
   "name": "python",
   "nbconvert_exporter": "python",
   "pygments_lexer": "ipython3",
   "version": "3.10.9"
  },
  "widgets": {
   "application/vnd.jupyter.widget-state+json": {
    "state": {},
    "version_major": 2,
    "version_minor": 0
   }
  }
 },
 "nbformat": 4,
 "nbformat_minor": 4
}
