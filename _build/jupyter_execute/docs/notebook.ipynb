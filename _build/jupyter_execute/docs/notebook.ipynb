{
 "cells": [
  {
   "cell_type": "markdown",
   "metadata": {},
   "source": [
    "# Assignment 5\n",
    "\n",
    "Robin Kuipers 14273810, Benjamin Kuus 14394081 | 06 oktober 2023\n",
    "\n",
    "Netwerk organisaties | Sarah Koek"
   ]
  },
  {
   "cell_type": "markdown",
   "metadata": {},
   "source": [
    "## 1. Reden van het onderzoek\n",
    "\n",
    "De wetenschappelijke relevantie voor dit onderzoek is het gebruik van Robust Decision Making voor een complex probleem. Hoewel er vaker onderzoek is gedaan naar dit onderwerp is er nog niet eerder gebruikgemaakt van Robust Decision Making of System Dynamics. Dit onderzoek vult deze research gap, en is dus ook relevant voor het kijken naar hoe deze technieken toegepast moeten en/of kunnen worden bij dit en vergelijkbare problemen.\n",
    "\n",
    "\n",
    "Er is ook grote maatschappelijke relevantie voor onderzoek over dit onderwerp. Er zijn namelijk heel veel stakeholders voor wie een oplossing voor dit probleem goed uit zou komen. Voor de overheid is het van belang dat er een passende oplossing wordt gevonden om vergrijzing tegen te gaan. Voor de ouderen in Nederland is dit het liefst een oplossing waarbij de AOW-leeftijd niet onnodig omhoog wordt gehaald. Een onderzoek naar hoe dit probleem kan worden aangepakt op een manier dat een oplossing vormt voor de overheid en waarbij de ouderen ook tevreden kunnen zijn met nieuwe regelgeving.\n"
   ]
  },
  {
   "cell_type": "markdown",
   "metadata": {},
   "source": [
    "## 2. System Dynamics\n",
    "\n",
    "In het onderzoek van Auping (2015) wordt het probleem van ‘societal ageing’ behandeld. Dit probleem wordt gezien als ‘deeply uncertain’, aangezien er vele stakeholders zijn met grote verschillen in standpunten en perspectieven. Het probleem van societal ageing is dus duidelijk complex. Dit is de primaire reden voor het gebruik van System Dynamics. In een situatie die dynamisch en complex is, zoals het societal ageing probleem, is het verstandig om System Dynamics modellen te gebruiken. Op deze manier is het mogelijk om een concreter beeld te krijgen van een ingewikkelde situatie.\n",
    "Daarnaast is dit specifieke probleem een waarbij het kijken naar het middel en lange termijn ook enorm van belang is. Dit is ook een reden om gebruik te maken van System Dynamics, aangezien het maken van modellen hierbij extra inzicht kan geven over de consequenties op een langere termijn. \n",
    "\n",
    "\n",
    "Het was eventueel mogelijk geweest om op deze, of een vergelijkbare, conclusie te komen door middel van een kwalitatief onderzoek. Bijvoorbeeld het testen van public support van retirement policies had plaats kunnen vinden via onderzoeksgroepen of interviews met mensen in de doelgroep (gepensioneerden of bijna gepensioneerden). Op deze wijze was het ook mogelijk geweest om een visie te krijgen van hoe potentiële nieuwe policies ontvangen zouden kunnen worden.\n"
   ]
  },
  {
   "cell_type": "markdown",
   "metadata": {},
   "source": [
    "## 3. De validatie van het onderzoeksmodel\n",
    "\n",
    "> “Validation is the process of determining the degree to which a simulation model and its associated data are an accurate representation of the real world from the perspective of the intended uses of the model.” - Tom van Engers, lecture 2, network science (2023)\n",
    "\n",
    "Op basis van de validatiemethoden uit het college van Tom van Engers (Van Engers, 2023) in week twee van het vak netwerk organisaties, hebben we de technieken die de onderzoekers hebben gebruikt opnieuw onderzocht in de context van de door van Engers gegeven validatie typen:\n",
    "\n",
    "\n",
    "- **Construct validity** (Does one measure what one thinks to measure?): De demografische druk, die de onderzoekers definiëren als een proxy voor de verhouding van de niet-werkende bevolking in vergelijking met de werkende bevolking, illustreert construct validity. Ze maken van een complex concept (de maatschappelijke veroudering) een meetbare variabele (de demografische druk).\n",
    "\n",
    "\n",
    "- **Face validity** (Is the set-up of the research reasonable?): De workshops met domein- en methodologische experts dienen als controle van face validity. Deze experts zouden evalueren of het model \"klopt\" en of de structuur ervan redelijk is op basis van hun expertise.\n",
    "\n",
    "\n",
    "- **Concurrent Validity** (Measures the test against a benchmark test and high correlation indicates that the test has strong criterion validity?): De vergelijking van de model voorspellingen met betrekking tot bevolkingsscenario's met prognoses van het CBS (2010) dient als een vorm van concurrente validiteit. Ze benchmarken hun model tegen een gevestigde en erkende bron.\n",
    "\n",
    "\n",
    "- **Predictive Criterium Validity** (The extent to which a score on a scale or test predicts scores on some criterion measure): Hoewel het niet expliciet wordt benoemd, geeft het vermogen van het model om bevolkingsscenario's en demografische druk over toekomstige periodes te voorspellen een bewijs van zijn predictieve criteriumvaliditeit.\n",
    "\n",
    "\n",
    "- **Internal Validity** (Causal relations): De verkenning van beleidsopties en hun implicaties voor de kosten van maatschappelijke veroudering representeert interne validiteit. De onderzoekers onderzoeken de causale effecten van verschillende beleidslijnen op het resultaat.\n",
    "\n",
    "\n",
    "- **External Validity**(Sometimes called population validity: how well can the sample used be extrapolated to a population as a whole?): De focus op Nederland en de specifieke verwijzingen naar de gezondheidszorg, het pensioenstelsel en de arbeidsmarktdynamiek suggereren dat terwijl het model mogelijk een hoge externe validiteit heeft voor Nederland, het mogelijk aanpassingen nodig heeft voor andere landen of instellingen.\n",
    "\n",
    "\n",
    "Deze verschillende soorten validatie zorgen er gezamenlijk voor dat het onderzoeksmodel zowel rigoureus als relevant is, wat de geloofwaardigheid en toepasbaarheid verhoogt.\n"
   ]
  },
  {
   "cell_type": "markdown",
   "metadata": {},
   "source": [
    "## 4. Het opstellen van de policies met behulp van Robust Decision Making. \n",
    "\n",
    "Om tot robuuste policies te komen maken de auteurs gebruik van Robust Decision Making (RDM). RDM is een benadering die is ontworpen om besluitvormers te helpen omgaan met onzekerheid. RDM helpt om een robuust plan te identificeren, dat zo veel mogelijk situaties ontwijkt waarin het plan zal falen en wat de condities verduidelijkt waarin het plan zal falen. (Auping et al., 2015). In de volgende stappen zijn de onderzoekers tot robuuste policies gekomen:\n",
    "\n",
    "1. **Scoping**: De scope van het model ligt op het begrijpen van de ontwikkeling van de Nederlandse demografie en de implicaties daarvan op overheidsuitgaven, specifiek met betrekking tot pensioenfondsen, curatieve zorg en langdurige zorg. Hierbij zijn de hoofdcomponenten demografie, economie (factoren die het BBP, arbeidsproductiviteit en de balans tussen arbeidsaanbod en vraag beïnvloeden), sociale zekerheid, gezondheidszorg, beleidswijzigingen. Twee belangrijke feedbacklussen zijn geïdentificeerd: de \"cost-plus social security expansion loop\" en de \"adaptive retirement age cost mitigation loop\".\n",
    "\n",
    "2. **Simulation and scenario discovery**: vervolgens werd er een “candidate” policy geïdentificeerd die geëvalueerd wordt en waarin een aantal scenario’s worden getest om kwetsbaarheden van het beleid te identificeren. De gekozen policy is in dit onderzoek de pensioenleeftijd. De scenario’s waar modellen voor gemaakt zijn zijn: de huidige pensioenleeftijd, de voormalige pensioenleeftijd, een scenario waarin de voormalige pensioenleeftijd op een later moment veranderd wordt en een toekomstige voorspelling van de pensioenleeftijd. Vervolgens is ieder model 1000 maal gesimuleerd tussen het jaar 2010 en 2060. \n",
    "\n",
    "3. **policy design**: Aan de hand van de simulaties op de verschillende scenario’s wordt door de onderzoekers nieuw of aangepast beleid opgesteld. De verschillende policyopties (in dit onderzoek in totaal 10)  zijn gesimuleerd en getest, zowel individueel als gecombineerd. De policies worden robuust verklaard wanneer de gewenste uitkomsten en toekomstige situaties uit het model komen. Hiervoor is het handig om deze te stroomlijnen met de werkelijke ontwikkelingen van de toekomst (vanuit voorspellingen die zo mogelijk accuraat zijn, het is immers niet mogelijk om daadwerkelijk te voorspellen hoe de toekomst eruit ziet). De uitkomsten van de verschillende (gecombineerde) policies worden vergeleken en vanuit daar wordt bepaald welke robuust zijn."
   ]
  },
  {
   "cell_type": "markdown",
   "metadata": {},
   "source": [
    "# Referenties\n",
    "\n",
    "Auping, W. L., Pruyt, E., & Kwakkel, J. H. (2015). Societal Ageing in the Netherlands: A Robust System Dynamics approach. Systems research and behavioral science, 32(4), 485–501. https://doi.org/10.1002/sres.2340 \n",
    "\n",
    "Sterman, J. D. (2001). System Dynamics Modeling: Tools for learning in a complex world. California Management Review, 43(4), 8–25. https://doi.org/10.2307/41166098 \n",
    "\n",
    "Van Engers, T. & Universiteit van Amsterdam, Faculteit Natuurkunde, Wiskunde en Informatica. (z.d.). Lecture 2. System Dynamics and validation [Presentatieslides]."
   ]
  }
 ],
 "metadata": {
  "kernelspec": {
   "display_name": "Python 3 (ipykernel)",
   "language": "python",
   "name": "python3"
  },
  "language_info": {
   "codemirror_mode": {
    "name": "ipython",
    "version": 3
   },
   "file_extension": ".py",
   "mimetype": "text/x-python",
   "name": "python",
   "nbconvert_exporter": "python",
   "pygments_lexer": "ipython3",
   "version": "3.10.9"
  },
  "widgets": {
   "application/vnd.jupyter.widget-state+json": {
    "state": {},
    "version_major": 2,
    "version_minor": 0
   }
  }
 },
 "nbformat": 4,
 "nbformat_minor": 4
}